{
 "cells": [
  {
   "cell_type": "code",
   "execution_count": 33,
   "id": "a3a7e4d2",
   "metadata": {},
   "outputs": [
    {
     "name": "stdout",
     "output_type": "stream",
     "text": [
      "Random Forest Classifier :  0.93\n",
      "Decision Tree Classifier :  0.9\n",
      "K Neighbors   Classifier :  0.84\n"
     ]
    }
   ],
   "source": [
    "import pandas as pd\n",
    "from sklearn.preprocessing import MinMaxScaler, LabelEncoder\n",
    "from sklearn.ensemble import RandomForestClassifier\n",
    "from sklearn.model_selection import train_test_split\n",
    "from sklearn.metrics import accuracy_score, r2_score\n",
    "from sklearn.tree import DecisionTreeClassifier\n",
    "from sklearn.neighbors import KNeighborsClassifier\n",
    "\n",
    "df = pd.read_csv(\"Asana.csv\")\n",
    "\n",
    "X = df.iloc[:,:-1].values\n",
    "Y = df.iloc[:,-1].values\n",
    "\n",
    "mms = MinMaxScaler()\n",
    "x = mms.fit_transform(X)\n",
    "\n",
    "le = LabelEncoder()\n",
    "#y = le.fit_transform(Y)\n",
    "\n",
    "x_train, x_test, y_train, y_test = train_test_split(x,Y, test_size=0.2)\n",
    "\n",
    "rfr = RandomForestClassifier()\n",
    "rfr.fit(x_train, y_train)\n",
    "\n",
    "dtc = DecisionTreeClassifier()\n",
    "dtc.fit(x_train, y_train)\n",
    "\n",
    "knn = KNeighborsClassifier()\n",
    "knn.fit(x_train, y_train)\n",
    "\n",
    "print(\"Random Forest Classifier : \", round(accuracy_score(y_test,rfr.predict(x_test)), 2))\n",
    "print(\"Decision Tree Classifier : \", round(accuracy_score(y_test,dtc.predict(x_test)), 2))\n",
    "print(\"K Neighbors   Classifier : \", round(accuracy_score(y_test,knn.predict(x_test)), 2))"
   ]
  },
  {
   "cell_type": "code",
   "execution_count": 35,
   "id": "f165251e",
   "metadata": {},
   "outputs": [],
   "source": [
    "import pickle\n",
    "\n",
    "f=open('model.pkl','wb')\n",
    "pickle.dump(rfr,f)\n",
    "f.close()"
   ]
  }
 ],
 "metadata": {
  "kernelspec": {
   "display_name": "Python 3 (ipykernel)",
   "language": "python",
   "name": "python3"
  },
  "language_info": {
   "codemirror_mode": {
    "name": "ipython",
    "version": 3
   },
   "file_extension": ".py",
   "mimetype": "text/x-python",
   "name": "python",
   "nbconvert_exporter": "python",
   "pygments_lexer": "ipython3",
   "version": "3.10.7"
  }
 },
 "nbformat": 4,
 "nbformat_minor": 5
}
