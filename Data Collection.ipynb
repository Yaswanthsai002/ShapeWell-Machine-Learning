{
 "cells": [
  {
   "cell_type": "code",
   "execution_count": 1,
   "id": "d088caf3",
   "metadata": {},
   "outputs": [],
   "source": [
    "import mediapipe as mp\n",
    "import cv2\n",
    "import os\n",
    "\n",
    "mp_holistic = mp.solutions.holistic\n",
    "holistic = mp_holistic.Holistic(static_image_mode=True, \n",
    "                                min_detection_confidence=0.5, \n",
    "                                model_complexity=2)\n",
    "\n",
    "\n",
    "data = []\n",
    "for p in mp_holistic.PoseLandmark:\n",
    "        x = str(p)[13:]\n",
    "        data.append(x + \"_x\")\n",
    "        data.append(x + \"_y\")\n",
    "        data.append(x + \"_z\")\n",
    "        data.append(x + \"_visibility\")\n",
    "data.append(\"NAME_OF_THE_ASANA\")\n",
    "\n",
    "path = 'DATASET/TRAIN'\n",
    "\n",
    "landmarks = []\n",
    "\n",
    "for asana in os.listdir(path):\n",
    "    for image in os.listdir(os.path.join(path,asana)):\n",
    "        image_path = os.path.join(path,asana,image)\n",
    "        try:\n",
    "            img = cv2.imread(image_path)\n",
    "            imgRGB = cv2.cvtColor(img,cv2.COLOR_BGR2RGB)\n",
    "            results = holistic.process(imgRGB)\n",
    "            if results.pose_landmarks:\n",
    "                new = []\n",
    "                for landmark in results.pose_landmarks.landmark:\n",
    "                    new.append(landmark.x)\n",
    "                    new.append(landmark.y)\n",
    "                    new.append(landmark.z)\n",
    "                    new.append(landmark.visibility)\n",
    "                new.append(asana)\n",
    "                landmarks.append(new)\n",
    "        except Exception as e:\n",
    "            print(e)"
   ]
  },
  {
   "cell_type": "code",
   "execution_count": 2,
   "id": "a0d87af3",
   "metadata": {},
   "outputs": [],
   "source": [
    "import csv\n",
    "file = open(\"Asana.csv\",\"w\")\n",
    "writer = csv.writer(file)\n",
    "writer.writerow(data)\n",
    "writer.writerows(landmarks)\n",
    "file.close()"
   ]
  }
 ],
 "metadata": {
  "kernelspec": {
   "display_name": "Python 3 (ipykernel)",
   "language": "python",
   "name": "python3"
  },
  "language_info": {
   "codemirror_mode": {
    "name": "ipython",
    "version": 3
   },
   "file_extension": ".py",
   "mimetype": "text/x-python",
   "name": "python",
   "nbconvert_exporter": "python",
   "pygments_lexer": "ipython3",
   "version": "3.10.7"
  },
  "vscode": {
   "interpreter": {
    "hash": "26de051ba29f2982a8de78e945f0abaf191376122a1563185a90213a26c5da77"
   }
  }
 },
 "nbformat": 4,
 "nbformat_minor": 5
}
